{
 "cells": [
  {
   "cell_type": "code",
   "execution_count": null,
   "metadata": {},
   "outputs": [],
   "source": [
    "! pip install ipykernel"
   ]
  },
  {
   "cell_type": "code",
   "execution_count": 1,
   "metadata": {},
   "outputs": [
    {
     "data": {
      "text/html": [
       "<div>\n",
       "<style scoped>\n",
       "    .dataframe tbody tr th:only-of-type {\n",
       "        vertical-align: middle;\n",
       "    }\n",
       "\n",
       "    .dataframe tbody tr th {\n",
       "        vertical-align: top;\n",
       "    }\n",
       "\n",
       "    .dataframe thead th {\n",
       "        text-align: right;\n",
       "    }\n",
       "</style>\n",
       "<table border=\"1\" class=\"dataframe\">\n",
       "  <thead>\n",
       "    <tr style=\"text-align: right;\">\n",
       "      <th></th>\n",
       "      <th>text</th>\n",
       "      <th>meta</th>\n",
       "      <th>embeddings</th>\n",
       "      <th>cluster</th>\n",
       "    </tr>\n",
       "  </thead>\n",
       "  <tbody>\n",
       "    <tr>\n",
       "      <th>0</th>\n",
       "      <td>Bennett, SL, Hewitt, AW, Poulsen, JL, Kearns, ...</td>\n",
       "      <td>{'language': 'en', 'source': 'c4', 'timestamp'...</td>\n",
       "      <td>[0.027173912, -0.48332036, 0.275246, 0.1421428...</td>\n",
       "      <td>6</td>\n",
       "    </tr>\n",
       "    <tr>\n",
       "      <th>1</th>\n",
       "      <td>You know, a movie trailer can give us expectat...</td>\n",
       "      <td>{'language': 'en', 'source': 'c4', 'timestamp'...</td>\n",
       "      <td>[-0.36534256, -0.17768498, 0.17265669, 0.14654...</td>\n",
       "      <td>8</td>\n",
       "    </tr>\n",
       "    <tr>\n",
       "      <th>2</th>\n",
       "      <td>Today I received the wonderful news that I hav...</td>\n",
       "      <td>{'language': 'en', 'source': 'c4', 'timestamp'...</td>\n",
       "      <td>[-0.22703238, -0.2657552, 0.015339543, 0.05722...</td>\n",
       "      <td>9</td>\n",
       "    </tr>\n",
       "    <tr>\n",
       "      <th>3</th>\n",
       "      <td>What Penta Crystal can do for you?\\nHow differ...</td>\n",
       "      <td>{'language': 'en', 'source': 'c4', 'timestamp'...</td>\n",
       "      <td>[-0.41105062, -0.3595325, 0.14952622, 0.317140...</td>\n",
       "      <td>3</td>\n",
       "    </tr>\n",
       "    <tr>\n",
       "      <th>4</th>\n",
       "      <td>We all know Scott for his sarcastic demeanor o...</td>\n",
       "      <td>{'language': 'en', 'source': 'c4', 'timestamp'...</td>\n",
       "      <td>[0.00229272, -0.023827108, -0.09179713, 0.3543...</td>\n",
       "      <td>2</td>\n",
       "    </tr>\n",
       "  </tbody>\n",
       "</table>\n",
       "</div>"
      ],
      "text/plain": [
       "                                                text  \\\n",
       "0  Bennett, SL, Hewitt, AW, Poulsen, JL, Kearns, ...   \n",
       "1  You know, a movie trailer can give us expectat...   \n",
       "2  Today I received the wonderful news that I hav...   \n",
       "3  What Penta Crystal can do for you?\\nHow differ...   \n",
       "4  We all know Scott for his sarcastic demeanor o...   \n",
       "\n",
       "                                                meta  \\\n",
       "0  {'language': 'en', 'source': 'c4', 'timestamp'...   \n",
       "1  {'language': 'en', 'source': 'c4', 'timestamp'...   \n",
       "2  {'language': 'en', 'source': 'c4', 'timestamp'...   \n",
       "3  {'language': 'en', 'source': 'c4', 'timestamp'...   \n",
       "4  {'language': 'en', 'source': 'c4', 'timestamp'...   \n",
       "\n",
       "                                          embeddings  cluster  \n",
       "0  [0.027173912, -0.48332036, 0.275246, 0.1421428...        6  \n",
       "1  [-0.36534256, -0.17768498, 0.17265669, 0.14654...        8  \n",
       "2  [-0.22703238, -0.2657552, 0.015339543, 0.05722...        9  \n",
       "3  [-0.41105062, -0.3595325, 0.14952622, 0.317140...        3  \n",
       "4  [0.00229272, -0.023827108, -0.09179713, 0.3543...        2  "
      ]
     },
     "execution_count": 1,
     "metadata": {},
     "output_type": "execute_result"
    }
   ],
   "source": [
    "import pandas as pd\n",
    "\n",
    "path = 'data/c4-train.01023-of-01024.parquet'\n",
    "df = pd.read_parquet(path)\n",
    "df.head()"
   ]
  },
  {
   "cell_type": "code",
   "execution_count": 48,
   "metadata": {},
   "outputs": [],
   "source": [
    "cluster_6_df = df[df['cluster'] == 8]\n",
    "cluster_6_df.reset_index(drop=True, inplace=True)"
   ]
  },
  {
   "cell_type": "code",
   "execution_count": 49,
   "metadata": {},
   "outputs": [
    {
     "data": {
      "text/html": [
       "<div>\n",
       "<style scoped>\n",
       "    .dataframe tbody tr th:only-of-type {\n",
       "        vertical-align: middle;\n",
       "    }\n",
       "\n",
       "    .dataframe tbody tr th {\n",
       "        vertical-align: top;\n",
       "    }\n",
       "\n",
       "    .dataframe thead th {\n",
       "        text-align: right;\n",
       "    }\n",
       "</style>\n",
       "<table border=\"1\" class=\"dataframe\">\n",
       "  <thead>\n",
       "    <tr style=\"text-align: right;\">\n",
       "      <th></th>\n",
       "      <th>text</th>\n",
       "      <th>meta</th>\n",
       "      <th>embeddings</th>\n",
       "      <th>cluster</th>\n",
       "    </tr>\n",
       "  </thead>\n",
       "  <tbody>\n",
       "    <tr>\n",
       "      <th>0</th>\n",
       "      <td>You know, a movie trailer can give us expectat...</td>\n",
       "      <td>{'language': 'en', 'source': 'c4', 'timestamp'...</td>\n",
       "      <td>[-0.36534256, -0.17768498, 0.17265669, 0.14654...</td>\n",
       "      <td>8</td>\n",
       "    </tr>\n",
       "    <tr>\n",
       "      <th>1</th>\n",
       "      <td>Just like painting! Lovely house with golden r...</td>\n",
       "      <td>{'language': 'en', 'source': 'c4', 'timestamp'...</td>\n",
       "      <td>[-0.38465753, -0.17590988, 0.16088165, 0.17450...</td>\n",
       "      <td>8</td>\n",
       "    </tr>\n",
       "    <tr>\n",
       "      <th>2</th>\n",
       "      <td>Easton is an important cultural center of the ...</td>\n",
       "      <td>{'language': 'en', 'source': 'c4', 'timestamp'...</td>\n",
       "      <td>[-0.43223858, -0.24026184, 0.015663136, 0.3442...</td>\n",
       "      <td>8</td>\n",
       "    </tr>\n",
       "    <tr>\n",
       "      <th>3</th>\n",
       "      <td>Ness KK, Hudson MM, Jones KE, Leisenring W, Ya...</td>\n",
       "      <td>{'language': 'en', 'source': 'c4', 'timestamp'...</td>\n",
       "      <td>[-0.27727038, -0.27430087, -0.0086666625, 0.14...</td>\n",
       "      <td>8</td>\n",
       "    </tr>\n",
       "    <tr>\n",
       "      <th>4</th>\n",
       "      <td>Do their donors exert too much influence?\\nOnc...</td>\n",
       "      <td>{'language': 'en', 'source': 'c4', 'timestamp'...</td>\n",
       "      <td>[-0.0958355, -0.37103212, 0.050468117, 0.41496...</td>\n",
       "      <td>8</td>\n",
       "    </tr>\n",
       "  </tbody>\n",
       "</table>\n",
       "</div>"
      ],
      "text/plain": [
       "                                                text  \\\n",
       "0  You know, a movie trailer can give us expectat...   \n",
       "1  Just like painting! Lovely house with golden r...   \n",
       "2  Easton is an important cultural center of the ...   \n",
       "3  Ness KK, Hudson MM, Jones KE, Leisenring W, Ya...   \n",
       "4  Do their donors exert too much influence?\\nOnc...   \n",
       "\n",
       "                                                meta  \\\n",
       "0  {'language': 'en', 'source': 'c4', 'timestamp'...   \n",
       "1  {'language': 'en', 'source': 'c4', 'timestamp'...   \n",
       "2  {'language': 'en', 'source': 'c4', 'timestamp'...   \n",
       "3  {'language': 'en', 'source': 'c4', 'timestamp'...   \n",
       "4  {'language': 'en', 'source': 'c4', 'timestamp'...   \n",
       "\n",
       "                                          embeddings  cluster  \n",
       "0  [-0.36534256, -0.17768498, 0.17265669, 0.14654...        8  \n",
       "1  [-0.38465753, -0.17590988, 0.16088165, 0.17450...        8  \n",
       "2  [-0.43223858, -0.24026184, 0.015663136, 0.3442...        8  \n",
       "3  [-0.27727038, -0.27430087, -0.0086666625, 0.14...        8  \n",
       "4  [-0.0958355, -0.37103212, 0.050468117, 0.41496...        8  "
      ]
     },
     "execution_count": 49,
     "metadata": {},
     "output_type": "execute_result"
    }
   ],
   "source": [
    "cluster_6_df.head()"
   ]
  },
  {
   "cell_type": "code",
   "execution_count": 50,
   "metadata": {},
   "outputs": [
    {
     "name": "stdout",
     "output_type": "stream",
     "text": [
      "You know, a movie trailer can give us expectations about a film. It tells us a certain amount about a film so to draw us in and make us want to see it. And sometimes not. Sometimes it just lies.\n",
      "You know, a movie trailer can give us expectations about a film. It tells us a certain amount about a film so to draw us in and make us want to see it. And sometimes not. Sometimes it just lies. Sometimes it’s like, “Hey, check out this creepy supernatural thriller/horror movie about a family that moves into their perfect new home in the country that turns out to be the site of a some horrible murders.” But then it turns out to be something else entirely.\n",
      "Oh, sure, that can be a good thing. Twists can be effective. And they could have been here, too, if not for a few minor bumps that change one’s opinion of the film. Not huge glaring mistakes, but little things that make a big difference. It’s like having one of those little pebbles in your shoe or a tiny splinter in your hand. It gets under your skin and it hurts like Hell. So small, but so affecting. Or a paper cut! Yeah, that’s it. Tiny, painful…ok, enough with the analogies.\n",
      "In the story of Dream House, Will Atenten decides to quit his big downtown editor’s job to move his wife and two daughters to the country so he can write a book. They found a beautiful house in the country; an idyllic place. But then they find out that the previous family occupying of the house were murdered by the father. Gee, that sounds familiar. But it gets interesting.\n",
      "After one of Will’s daughters sees some man outside the window, and the neighbors act all weird for a few days, Will does some investigating and finds out that the man that committed the murders is still alive and living in the area. He goes to the local psychiatric hospital and discovers that guy, Peter Ward, is him! Oh, relax, that was in the trailer.\n",
      "So, first we start with what seems a supernatural horror film, then it becomes a psychological thriller. This part of the film gets kind of interesting, and frankly, they handle any potential plot holes well. There are no slip-ups in the script – yet. And I should mention, the acting is all great. Daniel Craig is Will, his wife Libby is played by the always lovely Rachel Weisz, and the friend neighbor, Ann, is Naomi Watts. There is just enough information about everyone to plant the seed of doubt everywhere. The bulk of the film is about us and Peter trying to decipher what’s real, and what is all in his head. And it works well, until about the last 15 minutes.\n",
      "Without going into any great detail, because, you know, I wouldn’t want to blow it for you, let’s just say the rules applied to one character change subtly in this last part, but just enough to break the rules set earlier in the film. And then, one character makes a simple mistake, but it seems so terribly unlikely that I have trouble believing such carelessness would take place under the circumstances. And these two small infractions that equal two integral flaws, could easily been fixed with a little more time to consider the script. Writing is hard, I get it. Believe me. But this is what they get paid to do. Of course, the guy that wrote this also co-wrote the movie The Dream Team. Yes, the one with Michael Keaton. But with Jim Sheridan directing, you should make an impression, you know? Yeah, he was the guy that directed My Left Foot and In The Name of The Father, and a couple other movies with Daniel Day Lewis. I’m almost surprised Day Lewis wasn’t in this, too. They did great work together. Like Herzog and Kinski. Wow, now that would’ve been awesome. Imagine Herzog directing this movie with Klaus Kinski in it? Now THAT would have been something to watch, although a very different movie. It would have been a LOT scarier.\n",
      "So, I’m going with about 2 and a half kittenhands for Dream House. If they had fixed those couple little problems, I could have gone to 3 and a half, but alas, not as is. But maybe those little problems won’t bother you as much. I find I will tolerate less than I used to, so maybe check out the DVD and see if you like it more.\n",
      "~ Neil T. Weakley, your average movie-goer, surprised to find the title Dream House not really very applicable to this film.\n"
     ]
    }
   ],
   "source": [
    "print(cluster_6_df[\"text\"][0])"
   ]
  },
  {
   "cell_type": "code",
   "execution_count": 51,
   "metadata": {},
   "outputs": [
    {
     "name": "stdout",
     "output_type": "stream",
     "text": [
      "Just like painting! Lovely house with golden readily to harvest rice field and beautiful cosmo flowers dancing lively. Smells of fresh air, green vegetable farms and fish ponds readily to accept the life cycles on earth.\n",
      "Shirakawago has kept the village unspoiled and well preserved for centuries. This area of steep thatched roved farmhouses gained UNESCO World Heritage Site status in year 1995.\n",
      "How to go to Shirakawago by bus from Kanazawa?\n",
      "I took Highway Express Bus.\n",
      "- Total journey to Shirakawago from Kanazawa is around 1hours and 15 minutes.\n",
      "Buy the map from the tourist information center 100 JPY. Then enjoy the walking guide from the map. Cross the bridge to get to the village. Just walk around and enjoy the beautiful view of this village while taking a deep breathe of fresh air.\n",
      "The people of these Gassho-style or \"Praying hands\" style farmhouses were cut off from the rest of the world for a long period of time and survived the harsh winters through the cultivation of mulberry trees and the rearing of silk worms.\n",
      "I visited Wada house which history way back since year 1573. Just pay some entrance fees which I am not mistaken around 300 JPY. Wada family assumed the role of headman during Edo period and was official at the guard station. This family prosper from its potassium nitrate business. In 1888 Yaemun Wada was appointed the first mayor for this village which make Wada house is the largest of Gassho Zukuri settlement in Shirakawago. mmmmmm.... rich people 's house le.\n",
      "Stepping into this house, one can feel and smells the Edo period sense.\n",
      "The shiny black ceiling shows how many hundreds of years passed which people lived and earned their livelihood in this place. The horizontal timbers are tied to the sloping vertical timbers using branches of the mansaku tree known as neso. One thing about this type of build up, the roof of Gassho Style house is flexible enough to move with natural forces such as strong wind. Sigh!! who can win the natural forces?\n",
      "Since I am always bad at reading the map. Serious, most of the time I just follow the crowd even one or two people to gain confident that I was at the right place. This time...haihhhh...where were all those crowd??? No time to waste!\n",
      "Just walked as I like and end up at this kind of routes. Damn it! I need to watch out for bear some more. OMG!\n",
      "Nervous! at the same time enjoy the vegetable farms view in front of me.\n",
      "Lovely view! Nobody walked this way though. mmmmm....tried to stay positive.\n",
      "Bad : Did I get lost here? WTH!\n",
      "The more I walk, the view getting better and better. I just can't stop appreciating the beautiful scene in front of me.\n",
      "Thank God! I found my way. Its just I took a very long detour else where and found better view than other people.\n",
      "Although Shirakawago is designated as World Heritage Site , it is also a living village where people spend their daily lives. So...for us visitors, please respect other people living space.\n",
      "I think I walked longer than other people since I use the toughest routes. WTH! I then found one of the house selling fresh tomatoes from farm. I bought one for 200 JPY. Even a tomato feel so delicious in this environment. Oh Gosh!\n",
      "That beautiful hanging chilies to chase away evil spirit!\n",
      "This is one of the cafe sells coffee, red bean soup and rice cakes. I love the cafe so lovely! But so many people in that small cafe. I cannot enter pack small space . Afraid I cannot breathe! Phobia!\n",
      "I just adore this place from outside. Imagine this is cafe make from cookies and candies. Like the one in Hansel and Gretel story book. Nice eh?\n",
      "Since I planning to stop at Takayama later which means long way to go....I better grab quick bites. I found this stall selling grilled rice cakes and dango in soyu right across the 'hansel and gretel' cafe. Yummy!!!!\n",
      "Bottom right : Lost Cowboy at Shirakawago! This is what I say touring in style. I saw he have gun with him too. WTH!\n",
      "Time to say goodbye to this beautiful place.I spend half day enjoying the beautiful view of ancient and nature. I really wish this is well preserved till the end. With its old Japan atmosphere, Shirakawago is beautiful anytime of year but many say the best is in autumn and winter.\n",
      "To me, wondering around this place is like walking into the fairy tale book, I read during my younger age.\n",
      "I then took the bus to Takayama and explore another site of Japan. Check out next post!\n",
      "Few of my readers message me for my Japan itinerary. Don't worry! I will summarize everything in my last post by end of next week.\n",
      "I wish I can travel to Japan!!! Nice view!!!\n",
      "The country side look so refreshing, always wanted to wear a japanese costume and walks along the little villages and pretend I'm a Shogun..... life long childhood dream thanks to the 7 Samurai.\n",
      "You seem capture a lot of pretty scenery although you lost.. A brave girl to explore a new place by yourself. How long your trip for this place took you?\n",
      "Seronoknya dapat pergi jepun, bunga dia cantik sangat. cindy doakan saya dapat pergi jepun next year, hopefully bonus dapat cover the kos !\n",
      "To really know a new place is to get lost while exploring it actually.\n",
      "But you managed to captured the great views that nobody else captures.\n",
      "And I am so amazed at how great the authenticity of the village looks.\n",
      "Perhaps we should also have such conservation of our heritage too, like the one in Kampung Budaya, Sarawak.\n",
      "Another great guide from you. I can't wait to plan my own Japan trip. Saving money still.\n",
      "wow nice, did you follow tour to go? or buy own package to go there? No see you write on how much spend for this trip.\n",
      "I love the house there as very unique. Got long bridge somemore. Must be fun holiday at such place.\n",
      "Wow, how you can find all these amazing place in Japan? You're following tour or going by ur own?\n",
      "Beautiful! My friend also paid this place a visit last week. Indeed, everything there is so breathtaking.\n",
      "I like the scenery with flowers. Hope to go there one day.\n",
      "It looks like it would be a nice and peaceful place away from the public. Interesting!\n",
      "I can't move my eyes away from those lovely flowers. Like the wooden house too. Hope I manage to visit this place in the future.\n",
      "Admire you can go travel, breath the fresh air and enjoy nice view at Japan. Hope to read more about your Japan trip, maybe I can refer when I go Japan travel.\n",
      "This place is so beautiful. Not sure why but it reminds me a place I went at Taiwan. They have similar garden like this.\n",
      "all nice photo capturing !! japan sceneric was so attractive.\n",
      "Japan is such a beautiful place and on my list to travel soon. Want to see cherry blossom.\n"
     ]
    }
   ],
   "source": [
    "print(cluster_6_df[\"text\"][1])"
   ]
  },
  {
   "cell_type": "code",
   "execution_count": 52,
   "metadata": {},
   "outputs": [
    {
     "name": "stdout",
     "output_type": "stream",
     "text": [
      "Easton is an important cultural center of the Eastern Shore. Home to five art galleries within its downtown area, Easton is a popular destination that attracts visitors with unique exhibits and events. The town hosts a Gallery Walk on the first Friday of every month. To stay current on the many other events offered in Easton throughout the year, please visit the town’s Event Calendar.\n",
      "717 Gallery is owned by nationally recognized artist, Louis Escobedo. The gallery provides a vibrant space for artists and art collectors to meet, learn, and chat.\n",
      "The Academy Art Museum features permanent and special exhibits, hosts live performances, and offers art instruction to youth and adults.\n",
      "The Avalon Theater offers a packed calendar of musical and theater performances by nationally known artists, musicians, and actors.\n",
      "Cottage Studio & Gallery features fine art and crafts by Eastern Shore artists. Items include paintings, jewelry, sculpture, fiber art, baskets, and more.\n",
      "Housed in a gracious Victorian home, South Street Gallery is a guild of professional artists. The gallery emphasizes Eastern Shore landscapes and wildlife created in a variety of mediums.\n",
      "The Troika Gallery offers an elegant ambiance that is balanced with the warmth of a friendly working studio. This popular gallery business is currently offered for sale by its owners. Additional information may be found on their website.\n",
      "This annual event is a plein air competition and arts festival that attracts visitors and artists from throughout the nation.\n",
      "Easton’s signature event, the Waterfowl Festival attracts thousands of visitors each November. The event features nationally recognized artists, a decoy swap, dock dog competition, waterfowl artifacts, and many other demonstrations and exhibits. The event has raised over $5 million for conservation efforts.\n",
      "When you live in Easton, the Chesapeake Bay and the woods and fields of the Eastern Shore are your playground. Sailing, kayaking, hunting, hiking, biking, and spending a day at the beach are all popular activities. Easton’s healthy lifestyle extends to its many health clubs and its recently renovated YMCA. Three stunning golf courses and a tennis and racquet club round out the opportunities for active recreation.\n"
     ]
    }
   ],
   "source": [
    "print(cluster_6_df[\"text\"][2])"
   ]
  },
  {
   "cell_type": "code",
   "execution_count": 69,
   "metadata": {},
   "outputs": [
    {
     "data": {
      "text/plain": [
       "0.7662512"
      ]
     },
     "execution_count": 69,
     "metadata": {},
     "output_type": "execute_result"
    }
   ],
   "source": [
    "import numpy as np\n",
    "\n",
    "# calculate cosine similarity between two vectors\n",
    "def cosine_similarity(a, b):\n",
    "    return np.dot(a, b) / (np.linalg.norm(a) * np.linalg.norm(b))\n",
    "\n",
    "cluster_df = df[df['cluster'] == 7]\n",
    "cluster_df.reset_index(drop=True, inplace=True)\n",
    "cosine_similarity(cluster_df[\"embeddings\"][8], cluster_df[\"embeddings\"][50])"
   ]
  },
  {
   "cell_type": "code",
   "execution_count": 3,
   "metadata": {},
   "outputs": [
    {
     "data": {
      "text/html": [
       "<div>\n",
       "<style scoped>\n",
       "    .dataframe tbody tr th:only-of-type {\n",
       "        vertical-align: middle;\n",
       "    }\n",
       "\n",
       "    .dataframe tbody tr th {\n",
       "        vertical-align: top;\n",
       "    }\n",
       "\n",
       "    .dataframe thead th {\n",
       "        text-align: right;\n",
       "    }\n",
       "</style>\n",
       "<table border=\"1\" class=\"dataframe\">\n",
       "  <thead>\n",
       "    <tr style=\"text-align: right;\">\n",
       "      <th></th>\n",
       "      <th>text</th>\n",
       "      <th>meta</th>\n",
       "      <th>embeddings</th>\n",
       "      <th>cluster</th>\n",
       "    </tr>\n",
       "  </thead>\n",
       "  <tbody>\n",
       "    <tr>\n",
       "      <th>356312</th>\n",
       "      <td>You can find lots of choices for custom stainl...</td>\n",
       "      <td>{'language': 'en', 'source': 'c4', 'timestamp'...</td>\n",
       "      <td>[-0.11701224, -0.13226372, -0.19304088, 9.3180...</td>\n",
       "      <td>-1</td>\n",
       "    </tr>\n",
       "    <tr>\n",
       "      <th>356313</th>\n",
       "      <td>The Federal Scholarship Board invites all cand...</td>\n",
       "      <td>{'language': 'en', 'source': 'c4', 'timestamp'...</td>\n",
       "      <td>[-0.345782, -0.30466333, 0.10378763, 0.4603256...</td>\n",
       "      <td>-1</td>\n",
       "    </tr>\n",
       "    <tr>\n",
       "      <th>356314</th>\n",
       "      <td>Commercial Truck Success Blog: Is the Nissan T...</td>\n",
       "      <td>{'language': 'en', 'source': 'c4', 'timestamp'...</td>\n",
       "      <td>[-0.1980946, -0.36068678, 0.030844131, 0.04040...</td>\n",
       "      <td>-1</td>\n",
       "    </tr>\n",
       "    <tr>\n",
       "      <th>356315</th>\n",
       "      <td>George Bush has the momentum. The press can’t ...</td>\n",
       "      <td>{'language': 'en', 'source': 'c4', 'timestamp'...</td>\n",
       "      <td>[0.07227148, -0.18037517, -0.056652162, 0.9192...</td>\n",
       "      <td>-1</td>\n",
       "    </tr>\n",
       "    <tr>\n",
       "      <th>356316</th>\n",
       "      <td>MONTELOEDER is positioning its BRANDED INGREDI...</td>\n",
       "      <td>{'language': 'en', 'source': 'c4', 'timestamp'...</td>\n",
       "      <td>[-0.15981965, -0.52233565, -0.013628482, 0.134...</td>\n",
       "      <td>-1</td>\n",
       "    </tr>\n",
       "  </tbody>\n",
       "</table>\n",
       "</div>"
      ],
      "text/plain": [
       "                                                     text  \\\n",
       "356312  You can find lots of choices for custom stainl...   \n",
       "356313  The Federal Scholarship Board invites all cand...   \n",
       "356314  Commercial Truck Success Blog: Is the Nissan T...   \n",
       "356315  George Bush has the momentum. The press can’t ...   \n",
       "356316  MONTELOEDER is positioning its BRANDED INGREDI...   \n",
       "\n",
       "                                                     meta  \\\n",
       "356312  {'language': 'en', 'source': 'c4', 'timestamp'...   \n",
       "356313  {'language': 'en', 'source': 'c4', 'timestamp'...   \n",
       "356314  {'language': 'en', 'source': 'c4', 'timestamp'...   \n",
       "356315  {'language': 'en', 'source': 'c4', 'timestamp'...   \n",
       "356316  {'language': 'en', 'source': 'c4', 'timestamp'...   \n",
       "\n",
       "                                               embeddings  cluster  \n",
       "356312  [-0.11701224, -0.13226372, -0.19304088, 9.3180...       -1  \n",
       "356313  [-0.345782, -0.30466333, 0.10378763, 0.4603256...       -1  \n",
       "356314  [-0.1980946, -0.36068678, 0.030844131, 0.04040...       -1  \n",
       "356315  [0.07227148, -0.18037517, -0.056652162, 0.9192...       -1  \n",
       "356316  [-0.15981965, -0.52233565, -0.013628482, 0.134...       -1  "
      ]
     },
     "execution_count": 3,
     "metadata": {},
     "output_type": "execute_result"
    }
   ],
   "source": [
    "df.tail()"
   ]
  }
 ],
 "metadata": {
  "kernelspec": {
   "display_name": "semantic_domrei",
   "language": "python",
   "name": "python3"
  },
  "language_info": {
   "codemirror_mode": {
    "name": "ipython",
    "version": 3
   },
   "file_extension": ".py",
   "mimetype": "text/x-python",
   "name": "python",
   "nbconvert_exporter": "python",
   "pygments_lexer": "ipython3",
   "version": "3.11.5"
  }
 },
 "nbformat": 4,
 "nbformat_minor": 2
}
